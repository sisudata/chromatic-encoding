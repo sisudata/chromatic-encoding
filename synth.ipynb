{
 "cells": [
  {
   "cell_type": "code",
   "execution_count": 1,
   "metadata": {},
   "outputs": [
    {
     "name": "stderr",
     "output_type": "stream",
     "text": [
      "2020-08-10 22:52:39,048\tWARNING services.py:597 -- setpgrp failed, processes may not be cleaned up properly: [Errno 1] Operation not permitted.\n",
      "2020-08-10 22:52:39,050\tINFO resource_spec.py:216 -- Starting Ray with 207.52 GiB memory available for workers and up to 18.63 GiB for objects. You can adjust these settings with ray.init(memory=<bytes>, object_store_memory=<bytes>).\n"
     ]
    },
    {
     "data": {
      "text/plain": [
       "{'node_ip_address': '192.168.10.215',\n",
       " 'redis_address': '192.168.10.215:62563',\n",
       " 'object_store_address': '/tmp/ray/session_2020-08-10_22-52-39_047823_53888/sockets/plasma_store',\n",
       " 'raylet_socket_name': '/tmp/ray/session_2020-08-10_22-52-39_047823_53888/sockets/raylet',\n",
       " 'webui_url': None,\n",
       " 'session_dir': '/tmp/ray/session_2020-08-10_22-52-39_047823_53888'}"
      ]
     },
     "execution_count": 1,
     "metadata": {},
     "output_type": "execute_result"
    }
   ],
   "source": [
    "import ray\n",
    "ray.init()"
   ]
  },
  {
   "cell_type": "code",
   "execution_count": 2,
   "metadata": {},
   "outputs": [
    {
     "name": "stdout",
     "output_type": "stream",
     "text": [
      "d 100000\n",
      "ns [10000]\n",
      "ratios [1, 4, 16, 64, 256, 1024, 4096, 16384, 65536, 262144, 1048576]\n"
     ]
    }
   ],
   "source": [
    "# Generate synthetic data to evaluate Good-Turing stability of mutex structure\n",
    "\n",
    "d = 100000\n",
    "expected_nnz = 50\n",
    "\n",
    "import numpy as np\n",
    "import os\n",
    "np.random.seed(1234)\n",
    "\n",
    "def sample_verts(n, d, sz, max_ratio, outf):\n",
    "    \"\"\"\n",
    "    sample subsets of integer [0, d) of expected size sz\n",
    "    such that the probability of a particular integer being\n",
    "    drawn is independent of all others, but the maximum\n",
    "    ratio of the probabilities of a particular integer\n",
    "    being drawn are at most max_ratio (well, a little bit smaller)\n",
    "    \n",
    "    prints a binary frame size n x (d + 1) (prepended\n",
    "    with a random equiprobable binary vector) to outfile\n",
    "    \n",
    "    returns min prob, max prob, avg incidence for each vec\n",
    "    \"\"\"\n",
    "    \n",
    "    # choose geometric progression for probabilities\n",
    "    # lo * (max_ratio)^(0/d), lo * (max_ratio)^(1/d), ..., lo * max_ratio^((d-1)/d)\n",
    "    # need sum to equal sz\n",
    "    # sum is lo * (1 - max_ratio) / (1 - max_ratio^(1/d))\n",
    "    if max_ratio > 1:\n",
    "        corr = np.expm1(np.log(max_ratio) / d)\n",
    "        ll = np.log(sz) - np.log(max_ratio - 1)\n",
    "        # ll + log(corr) = log(lo)\n",
    "        probs = ll + np.arange(d) * np.log(max_ratio) / d\n",
    "        probs = np.exp(probs) * corr\n",
    "    else:\n",
    "        probs = np.ones(d) * (sz / d)\n",
    "    \n",
    "    for i, y in enumerate(np.random.choice(2, size=n)):\n",
    "        print('1 ' if y else '0 ', file=outf, end='')\n",
    "        np.savetxt(outf, np.flatnonzero(np.random.rand(d) < probs),\n",
    "                   newline=' ', fmt='%d')\n",
    "        print(file=outf)\n",
    "        \n",
    "    \n",
    "        \n",
    "    return probs[0], probs[-1], probs.sum(), probs\n",
    "\n",
    "ratios = [4 ** i for i in range(11)]\n",
    "ns = [10 * 1000]#, 100 * 1000]\n",
    "print('d', d)\n",
    "print('ns', ns)\n",
    "print('ratios', ratios)\n",
    "\n",
    "from subprocess import check_output\n",
    "\n",
    "@ray.remote(num_cpus=1)\n",
    "def gen_ratio(n, ratio):\n",
    "    for t in ['train', 'test']:\n",
    "        fn = f'data/synth_ratio{ratio}_n{n}.{t}'\n",
    "        with open(fn, mode='w', buffering=1024 * 1024) as f:\n",
    "            m, mm, e, p = sample_verts(n, d, expected_nnz, ratio, f)\n",
    "            f.flush()\n",
    "            os.fsync(f.fileno())\n",
    "        wc = check_output(f'wc {fn}', shell=True, encoding='utf-8').strip()\n",
    "        wc = wc.split()\n",
    "        lines, words = [x for x in wc if x][:2]\n",
    "        avg = int(words) / int(lines)\n",
    "    print(f'ratio {ratio:5.1f} probs min {m:7.5f} max {mm:7.5f} avg words {avg}')\n",
    "    return n, ratio, p"
   ]
  },
  {
   "cell_type": "code",
   "execution_count": 3,
   "metadata": {},
   "outputs": [
    {
     "name": "stdout",
     "output_type": "stream",
     "text": [
      "\u001b[2m\u001b[36m(pid=53963)\u001b[0m ratio 256.0 probs min 0.00001 max 0.00278 avg words 50.8632\n",
      "\u001b[2m\u001b[36m(pid=53976)\u001b[0m ratio 4096.0 probs min 0.00000 max 0.00416 avg words 50.9574\n",
      "\u001b[2m\u001b[36m(pid=53943)\u001b[0m ratio  16.0 probs min 0.00009 max 0.00148 avg words 51.0383\n",
      "\u001b[2m\u001b[36m(pid=53957)\u001b[0m ratio 262144.0 probs min 0.00000 max 0.00624 avg words 50.7586\n",
      "\u001b[2m\u001b[36m(pid=53946)\u001b[0m ratio 16384.0 probs min 0.00000 max 0.00485 avg words 50.9148\n",
      "\u001b[2m\u001b[36m(pid=53973)\u001b[0m ratio   4.0 probs min 0.00023 max 0.00092 avg words 50.9662\n",
      "\u001b[2m\u001b[36m(pid=53962)\u001b[0m ratio 1024.0 probs min 0.00000 max 0.00347 avg words 50.8876\n",
      "\u001b[2m\u001b[36m(pid=53961)\u001b[0m ratio   1.0 probs min 0.00050 max 0.00050 avg words 51.0889\n",
      "\u001b[2m\u001b[36m(pid=53971)\u001b[0m ratio 1048576.0 probs min 0.00000 max 0.00693 avg words 51.0182\n",
      "\u001b[2m\u001b[36m(pid=53954)\u001b[0m ratio  64.0 probs min 0.00003 max 0.00211 avg words 51.1154\n"
     ]
    }
   ],
   "source": [
    "nrp = ray.get([gen_ratio.remote(n, ratio) for ratio in ratios for n in ns]);"
   ]
  },
  {
   "cell_type": "code",
   "execution_count": 40,
   "metadata": {},
   "outputs": [],
   "source": [
    "nsamples = 100\n",
    "\n",
    "@ray.remote(num_cpus=1)\n",
    "def get_exp(nrp, colors):\n",
    "    n, r, p = nrp\n",
    "    \n",
    "    p = np.insert(p, len(p), np.zeros(colors - (len(p) % colors)))\n",
    "    \n",
    "    samples = []\n",
    "    for _ in range(nsamples):\n",
    "        np.random.shuffle(p)\n",
    "        ps = p.reshape(colors, -1)\n",
    "        # each row in this matrix corresponds to a partition from a random bucketing\n",
    "        # each item in each row is a Bernoulli for that feature appearing\n",
    "        # we're interested in the expected number of collisions, defined precisely as\n",
    "        # X = (number of active features) - (number of buckets with active features)\n",
    "        # by tower property, we can condition on a shuffling of features, so we can look\n",
    "        # at buckets individually.\n",
    "        # for bucket i, let A_i be the active features in that bucket.\n",
    "        # then the sum of (A_i - 1{A_i>0}) across i is equal to x\n",
    "        # \n",
    "        # fix any i and let p_i be the vector of probabilities for each of the Bernoullis\n",
    "        # in this bucket only (length == colors). Then A_i is PoissonBinomial(p_i) and\n",
    "        # E[A_i - 1{A_i>0}] = E[A_i] - 1 + Prob{A_i = 0}\n",
    "        #\n",
    "        # I don't think there's a non-monte-carlo way of getting this expectation,\n",
    "        # but the terms A_i above are essentially Poisson(||p_i||_1) since each\n",
    "        # p_i has small entries, which could lead to a non-sampling approximation\n",
    "        pzero = np.prod(1 - ps, axis=1)\n",
    "        samples.append(np.sum(ps.sum(axis=1) - 1 + pzero))\n",
    "    \n",
    "    return np.mean(samples)"
   ]
  },
  {
   "cell_type": "code",
   "execution_count": 26,
   "metadata": {},
   "outputs": [],
   "source": [
    "import pandas as pd"
   ]
  },
  {
   "cell_type": "code",
   "execution_count": 27,
   "metadata": {},
   "outputs": [],
   "source": [
    "ns_bash = ' '.join(map(str, ns))\n",
    "ratios_bash = ' '.join(map(str, ratios))"
   ]
  },
  {
   "cell_type": "code",
   "execution_count": 28,
   "metadata": {},
   "outputs": [],
   "source": [
    "%%bash -s '{ns_bash}' '{ratios_bash}'\n",
    "\n",
    "ns=\"$1\"\n",
    "ratios=\"$2\"\n",
    "\n",
    "budget=2048\n",
    "for ratio in $ratios ; do\n",
    "for n in $ns ; do\n",
    "  echo \"synth_ratio${ratio}_n${n}\"\n",
    "done\n",
    "done | RAYON_NUM_THREADS=2 xargs -L1 -I {} -P $(nproc) bash -c \"./csl/target/release/csl --budget $budget \\\n",
    "    --nofilter \\\n",
    "    --compress Identity --train ./data/{}.train --max-k 1 \\\n",
    "    --print-new-edges --valid ./data/{}.test > ./data/bound-log.{}.log\""
   ]
  },
  {
   "cell_type": "code",
   "execution_count": 29,
   "metadata": {},
   "outputs": [],
   "source": [
    "%%bash -s '{ns_bash}' '{ratios_bash}'\n",
    "\n",
    "ns=\"$1\"\n",
    "ratios=\"$2\"\n",
    "\n",
    "if true ; then\n",
    "\n",
    "function exarr {\n",
    "key=$1\n",
    "value=$(grep \"^$key\" $2 | head -1)\n",
    "value=${value#\"$key\"}\n",
    "echo \"\\\"$3\\\":\" \\\"\"$value\"\\\" \",\"\n",
    "}\n",
    "\n",
    "echo \"[\"\n",
    "\n",
    "for ratio in $ratios ; do\n",
    "for n in 10000 ; do\n",
    "\n",
    "dataset=\"synth_ratio${ratio}_n${n}\"\n",
    "\n",
    "logfile=\"data/bound-log.${dataset}.log\"\n",
    "\n",
    "echo \"{\"\n",
    "echo \"\\\"vertex_ratio\\\": $ratio,\"\n",
    "echo \"\\\"n\\\": $n,\"\n",
    "exarr \"greedy num colors\" $logfile \"greedy_colors\"\n",
    "exarr \"filtered thresholded Good-Turing estimate\" $logfile \"good_turing_new_edge_estimator\"\n",
    "exarr \"filtered thresholded actual new edge avg\" $logfile \"test_set_new_edges_per_example\"\n",
    "exarr \"color collision count\" $logfile \"greedy_cc\"\n",
    "exarr \"color collision std\" $logfile \"greedy_std\"\n",
    "#exarr \"glauber collisions\" $logfile \"glauber_colors_cc\"\n",
    "echo \"},\"\n",
    "\n",
    "done\n",
    "done\n",
    "echo \"]\"\n",
    "# npm install -g relaxed-json\n",
    "fi | rjson /dev/stdin > ./data/extracted-log.json"
   ]
  },
  {
   "cell_type": "code",
   "execution_count": 30,
   "metadata": {},
   "outputs": [
    {
     "name": "stdout",
     "output_type": "stream",
     "text": [
      "[\n",
      "  {\n",
      "    \"vertex_ratio\": 1,\n",
      "    \"n\": 10000,\n",
      "    \"greedy_colors\": \" 79\",\n",
      "    \"good_turing_new_edge_estimator\": \" [1185.8008]\",\n",
      "    \"test_set_new_edges_per_example\": \" [1207.4076]\",\n",
      "    \"greedy_cc\": \" 14.2582\",\n",
      "    \"greedy_std\": \" 4.331481589479513\"\n",
      "  },\n"
     ]
    }
   ],
   "source": [
    "%%bash\n",
    "\n",
    "head ./data/extracted-log.json"
   ]
  },
  {
   "cell_type": "code",
   "execution_count": 31,
   "metadata": {},
   "outputs": [
    {
     "data": {
      "text/html": [
       "<div>\n",
       "<style scoped>\n",
       "    .dataframe tbody tr th:only-of-type {\n",
       "        vertical-align: middle;\n",
       "    }\n",
       "\n",
       "    .dataframe tbody tr th {\n",
       "        vertical-align: top;\n",
       "    }\n",
       "\n",
       "    .dataframe thead th {\n",
       "        text-align: right;\n",
       "    }\n",
       "</style>\n",
       "<table border=\"1\" class=\"dataframe\">\n",
       "  <thead>\n",
       "    <tr style=\"text-align: right;\">\n",
       "      <th></th>\n",
       "      <th>vertex_ratio</th>\n",
       "      <th>n</th>\n",
       "      <th>greedy_colors</th>\n",
       "      <th>good_turing_new_edge_estimator</th>\n",
       "      <th>test_set_new_edges_per_example</th>\n",
       "      <th>greedy_cc</th>\n",
       "      <th>greedy_std</th>\n",
       "    </tr>\n",
       "  </thead>\n",
       "  <tbody>\n",
       "    <tr>\n",
       "      <th>0</th>\n",
       "      <td>1</td>\n",
       "      <td>10000</td>\n",
       "      <td>79.0</td>\n",
       "      <td>1185.8008</td>\n",
       "      <td>[1207.4076]</td>\n",
       "      <td>14.2582</td>\n",
       "      <td>4.331481589479513</td>\n",
       "    </tr>\n",
       "    <tr>\n",
       "      <th>1</th>\n",
       "      <td>4</td>\n",
       "      <td>10000</td>\n",
       "      <td>79.0</td>\n",
       "      <td>1160.0594</td>\n",
       "      <td>[1158.4572]</td>\n",
       "      <td>14.0821</td>\n",
       "      <td>4.328759590229051</td>\n",
       "    </tr>\n",
       "    <tr>\n",
       "      <th>2</th>\n",
       "      <td>16</td>\n",
       "      <td>10000</td>\n",
       "      <td>80.0</td>\n",
       "      <td>1095.7386</td>\n",
       "      <td>[1077.3973]</td>\n",
       "      <td>13.2493</td>\n",
       "      <td>4.149475811473061</td>\n",
       "    </tr>\n",
       "    <tr>\n",
       "      <th>3</th>\n",
       "      <td>64</td>\n",
       "      <td>10000</td>\n",
       "      <td>93.0</td>\n",
       "      <td>1020.3051</td>\n",
       "      <td>[993.594]</td>\n",
       "      <td>11.8073</td>\n",
       "      <td>3.8766695384053573</td>\n",
       "    </tr>\n",
       "    <tr>\n",
       "      <th>4</th>\n",
       "      <td>256</td>\n",
       "      <td>10000</td>\n",
       "      <td>110.0</td>\n",
       "      <td>933.6138</td>\n",
       "      <td>[906.8957]</td>\n",
       "      <td>10.4410</td>\n",
       "      <td>3.6216735082003155</td>\n",
       "    </tr>\n",
       "  </tbody>\n",
       "</table>\n",
       "</div>"
      ],
      "text/plain": [
       "   vertex_ratio      n  greedy_colors  good_turing_new_edge_estimator  \\\n",
       "0             1  10000           79.0                       1185.8008   \n",
       "1             4  10000           79.0                       1160.0594   \n",
       "2            16  10000           80.0                       1095.7386   \n",
       "3            64  10000           93.0                       1020.3051   \n",
       "4           256  10000          110.0                        933.6138   \n",
       "\n",
       "  test_set_new_edges_per_example  greedy_cc           greedy_std  \n",
       "0                    [1207.4076]    14.2582    4.331481589479513  \n",
       "1                    [1158.4572]    14.0821    4.328759590229051  \n",
       "2                    [1077.3973]    13.2493    4.149475811473061  \n",
       "3                      [993.594]    11.8073   3.8766695384053573  \n",
       "4                     [906.8957]    10.4410   3.6216735082003155  "
      ]
     },
     "execution_count": 31,
     "metadata": {},
     "output_type": "execute_result"
    }
   ],
   "source": [
    "import json\n",
    "with open('./data/extracted-log.json', 'r') as f:\n",
    "    r = json.load(f)\n",
    "df = pd.DataFrame.from_records(r)\n",
    "\n",
    "#df['glauber_colors'] = df.glauber_colors_cc.map(lambda x: eval(x)[0][0])\n",
    "#df['glauber_cc'] = df.glauber_colors_cc.map(lambda x: eval(x)[0][1])\n",
    "df['good_turing_new_edge_estimator'] = df.good_turing_new_edge_estimator.map(lambda x: eval(x)[0])\n",
    "df.greedy_colors = df.greedy_colors.astype(float)\n",
    "df.greedy_cc = df.greedy_cc.astype(float)\n",
    "\n",
    "df.head()"
   ]
  },
  {
   "cell_type": "code",
   "execution_count": 38,
   "metadata": {},
   "outputs": [],
   "source": [
    "def how_many_colors(nrp):\n",
    "    n, r, _ = nrp\n",
    "    ix = df.vertex_ratio == r\n",
    "    assert int(ix.sum()) == 1\n",
    "    ix = np.flatnonzero(ix)[0]\n",
    "    return int(df.at[0, 'greedy_colors'])"
   ]
  },
  {
   "cell_type": "code",
   "execution_count": 41,
   "metadata": {},
   "outputs": [],
   "source": [
    "expectations = ray.get([get_exp.remote(x, how_many_colors(x)) for x in nrp])\n",
    "edf = pd.DataFrame.from_records([\n",
    "    {'random_cc': e, 'vertex_ratio': r}\n",
    "    for e, (_, r, _) in zip(expectations, nrp)\n",
    "])\n",
    "df = pd.merge(df, edf, on='vertex_ratio')"
   ]
  },
  {
   "cell_type": "code",
   "execution_count": 42,
   "metadata": {},
   "outputs": [
    {
     "data": {
      "image/png": "[encoded data removed]",
      "text/plain": [
       "<Figure size 432x288 with 1 Axes>"
      ]
     },
     "metadata": {},
     "output_type": "display_data"
    }
   ],
   "source": [
    "# switch with glauber-extended greedy (later)\n",
    "%matplotlib inline\n",
    "from matplotlib import pyplot as plt\n",
    "import seaborn as sns\n",
    "sns.set(style=\"whitegrid\")\n",
    "\n",
    "ddf = df.copy()\n",
    "ddf.rename(columns={\n",
    "    'good_turing_new_edge_estimator': 'gte',\n",
    "    'greedy_cc': 'greedy',\n",
    "    'random_cc': 'random'\n",
    "    }, inplace=True)\n",
    "ddf['gte'] = ddf.gte / df.n\n",
    "\n",
    "mdf = ddf[['gte', 'greedy', 'random']]\n",
    "x = r'Good-Turing new edge estimator $N^{(1)}/n$'\n",
    "y = r'avg color collisions per test point $\\hat\\mathbb{E}[\\mathrm{CC}]$'\n",
    "mdf = mdf.melt('gte', var_name='bucketing',  value_name=y)\n",
    "\n",
    "# error bars need to be tediously manually plotted via\n",
    "# matplotlib, and they're not visible (Too small) anyway\n",
    "#sdf = ddf[['gte', 'greedy_std', 'random_cc_std']]\n",
    "#sdf.rename(columns={'greedy_std': 'greedy', 'random_cc_std': 'random'}, inplace=True)\n",
    "#sdf = sdf.melt('gte', var_name='bucketing',  value_name='std')\n",
    "\n",
    "#ddf = pd.merge(mdf, sdf, on=['gte', 'bucketing'])\n",
    "ddf = mdf\n",
    "ddf.rename(columns={'gte': x}, inplace=True)\n",
    "ddf['bucketing']= ddf.bucketing.map({'random': 'random', 'greedy': 'greedy coloring (CL)'})\n",
    "\n",
    "sns.lineplot(data=ddf, x=x, y=y, hue='bucketing', style='bucketing', markers=True)\n",
    "\n",
    "plt.title(r'$\\hat\\mathbb{E}[\\mathrm{CC}]$ vs $N^{(1)}/n$')\n",
    "handles, labels = plt.gca().get_legend_handles_labels()\n",
    "handles = handles[1:]\n",
    "labels = labels[1:]\n",
    "plt.legend(handles, labels, loc='upper center', bbox_to_anchor=(0.5, -.2), ncol=3, frameon=False)\n",
    "plt.savefig('pics/ccgreedy.pdf',  bbox_inches='tight')\n",
    "plt.show()"
   ]
  },
  {
   "cell_type": "code",
   "execution_count": null,
   "metadata": {},
   "outputs": [],
   "source": []
  }
 ],
 "metadata": {
  "kernelspec": {
   "display_name": "Python 3",
   "language": "python",
   "name": "python3"
  },
  "language_info": {
   "codemirror_mode": {
    "name": "ipython",
    "version": 3
   },
   "file_extension": ".py",
   "mimetype": "text/x-python",
   "name": "python",
   "nbconvert_exporter": "python",
   "pygments_lexer": "ipython3",
   "version": "3.7.6"
  }
 },
 "nbformat": 4,
 "nbformat_minor": 2
}
