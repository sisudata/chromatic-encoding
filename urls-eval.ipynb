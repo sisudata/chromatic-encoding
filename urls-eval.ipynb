{
 "cells": [
  {
   "cell_type": "markdown",
   "metadata": {},
   "source": [
    "# evaluate urls\n",
    "\n",
    "must have already run urls.ipynb nb\n",
    "\n",
    "This does lightweight preprocessing and assesses urls dataset on xgboost."
   ]
  },
  {
   "cell_type": "markdown",
   "metadata": {},
   "source": [
    "#### combine sparse and continuous data for regular runs"
   ]
  },
  {
   "cell_type": "code",
   "execution_count": 1,
   "metadata": {},
   "outputs": [],
   "source": [
    "awk_max_feature = \"\"\"\n",
    "{\n",
    "  for(i = 1; i <= NF; ++i) {\n",
    "    s = index($i, \":\");\n",
    "    $i = substr($i, 1, s - 1) + 0;\n",
    "    if ($i > m) m = $i;\n",
    "  }\n",
    "}\n",
    "END { print m }\n",
    "\"\"\""
   ]
  },
  {
   "cell_type": "code",
   "execution_count": 2,
   "metadata": {},
   "outputs": [
    {
     "name": "stdout",
     "output_type": "stream",
     "text": [
      "nlines 2396130\n",
      "min 306110 max 3381344\n"
     ]
    },
    {
     "name": "stderr",
     "output_type": "stream",
     "text": [
      "2740.96user 9.81system 6:25.49elapsed 713%CPU (0avgtext+0avgdata 3304maxresident)k\n",
      "1184inputs+3572008outputs (8major+3471minor)pagefaults 0swaps\n"
     ]
    }
   ],
   "source": [
    "%%script time bash -s '{awk_max_feature}'\n",
    "\n",
    "# for pre-processing, need to shift over continuous / sparse features\n",
    "files=\"urls-data/sps00.svm urls-data/sps01.svm\"\n",
    "nlines=$(cat $files | wc -l)\n",
    "echo nlines $nlines\n",
    "\n",
    "splits=16\n",
    "cat $files | cut -d\" \" -f2- | split -l $(( $nlines / $splits )) - /tmp/urls_sps\n",
    "ls /tmp/urls_sps* | xargs -P 16 -L1 awk \"$1\" | \\\n",
    "  awk 'BEGIN{m=\"NaN\"}{if(m>$1)m=$1;if(mm<$1)mm=$1}END{print \"min \" m \" max \" mm}'"
   ]
  },
  {
   "cell_type": "code",
   "execution_count": 3,
   "metadata": {},
   "outputs": [],
   "source": [
    "awk_shift = \"\"\"\n",
    "{\n",
    "  $1=\"\";\n",
    "  for(i = 2; i <= NF; ++i) {\n",
    "    s = index($i, \":\");\n",
    "    j = substr($i, 1, s - 1) + 3381344 + 1;\n",
    "    $i = j substr($i, s)\n",
    "  }\n",
    "  print\n",
    "}\n",
    "\"\"\""
   ]
  },
  {
   "cell_type": "code",
   "execution_count": 4,
   "metadata": {},
   "outputs": [
    {
     "name": "stdout",
     "output_type": "stream",
     "text": [
      "1677291 urls-data/cont00.svm\n",
      "   1677291  145867839 1286989217 urls-data/sps00.svm\n",
      "   1677291  196072305 1862973889 urls-data/all00.svm\n",
      "718839 urls-data/cont01.svm\n",
      "   718839  62013131 546637929 urls-data/sps01.svm\n",
      "   718839  83382469 791571250 urls-data/all01.svm\n"
     ]
    },
    {
     "name": "stderr",
     "output_type": "stream",
     "text": [
      "107.22user 7.15system 1:39.93elapsed 114%CPU (0avgtext+0avgdata 3336maxresident)k\n",
      "80inputs+5184664outputs (1major+1654minor)pagefaults 0swaps\n"
     ]
    }
   ],
   "source": [
    "%%script time bash -s '{awk_shift}'\n",
    "\n",
    "for i in \"00\" \"01\" ; do \n",
    "  wc -l urls-data/cont${i}.svm\n",
    "  wc urls-data/sps${i}.svm\n",
    "  cat urls-data/cont${i}.svm | awk \"$1\" \\\n",
    "    |  paste -d\" \" urls-data/sps${i}.svm - > urls-data/all${i}.svm\n",
    "  wc urls-data/all${i}.svm\n",
    "done"
   ]
  },
  {
   "cell_type": "markdown",
   "metadata": {},
   "source": [
    "#### lets see what xgb does\n",
    "\n",
    "Try out on 16cpu machine maybe"
   ]
  },
  {
   "cell_type": "code",
   "execution_count": 1,
   "metadata": {},
   "outputs": [
    {
     "name": "stdout",
     "output_type": "stream",
     "text": [
      "python setup.py build_ext --inplace\n",
      "running build_ext\n",
      "running build\n",
      "running build_py\n",
      "running build_ext\n",
      "running install\n",
      "running build\n",
      "running build_py\n",
      "running build_ext\n",
      "running install_lib\n",
      "running install_egg_info\n",
      "Removing /home/ubuntu/dev/anaconda3/envs/env2020/lib/python3.7/site-packages/svmlight_loader-0.1-py3.7.egg-info\n",
      "Writing /home/ubuntu/dev/anaconda3/envs/env2020/lib/python3.7/site-packages/svmlight_loader-0.1-py3.7.egg-info\n"
     ]
    }
   ],
   "source": [
    "%%bash\n",
    "\n",
    "cd /tmp\n",
    "test -e svmlight-loader || git clone https://github.com/mblondel/svmlight-loader.git\n",
    "cd svmlight-loader\n",
    "make\n",
    "python setup.py build\n",
    "python setup.py install"
   ]
  },
  {
   "cell_type": "code",
   "execution_count": 2,
   "metadata": {},
   "outputs": [],
   "source": [
    "import sys\n",
    "if '/tmp/svmlight-loader' not in sys.path:\n",
    "    sys.path.append('/tmp/svmlight-loader')\n",
    "    sys.path.append('/tmp/svmlight-loader/build')\n",
    "import svmlight_loader"
   ]
  },
  {
   "cell_type": "code",
   "execution_count": 8,
   "metadata": {},
   "outputs": [
    {
     "name": "stdout",
     "output_type": "stream",
     "text": [
      "load 120.01790261268616\n",
      "train X (1677291, 3381408) y (1677291,)\n",
      "train 267.0287036895752\n",
      "3092.79user 57.11system 6:28.02elapsed 811%CPU (0avgtext+0avgdata 11653680maxresident)k\n",
      "0inputs+464outputs (0major+12144782minor)pagefaults 0swaps\n"
     ]
    }
   ],
   "source": [
    "nthread = 64\n",
    "max_depth = 0\n",
    "num_round = 100\n",
    "baseline = \"urls-data/baseline.model\"\n",
    "import_svmlight = \"\"\"import sys\n",
    "    if '/tmp/svmlight-loader' not in sys.path:\n",
    "        sys.path.append('/tmp/svmlight-loader')\n",
    "        sys.path.append('/tmp/svmlight-loader/build')\n",
    "    from svmlight_loader import load_svmlight_file\"\"\"\n",
    "load_sps = f\"\"\"\n",
    "def load():\n",
    "    {import_svmlight}\n",
    "    return load_svmlight_file('urls-data/all00.svm')\n",
    "\"\"\"\n",
    "! /usr/bin/time python xgb.py {nthread} {max_depth} {num_round} {baseline} \"{load_sps}\""
   ]
  },
  {
   "cell_type": "code",
   "execution_count": 9,
   "metadata": {},
   "outputs": [
    {
     "name": "stdout",
     "output_type": "stream",
     "text": [
      "urls-data/baseline.model\n",
      "load          120 sec\n",
      "train         267 sec\n",
      "test X (718839, 3381408) y (718839,)\n",
      "acc 0.988820862529718\n",
      "auc 0.9990112327853139\n"
     ]
    }
   ],
   "source": [
    "from sklearn.metrics import accuracy_score, roc_auc_score\n",
    "import xgboost as xgb\n",
    "import json\n",
    "\n",
    "def eval_model(name, load):\n",
    "    print(name)\n",
    "    with open(name + '.json', 'r') as f:\n",
    "        param = json.load(f)\n",
    "    print('load   {: 10.0f} sec'.format(param.pop('load')))\n",
    "    print('train  {: 10.0f} sec'.format(param.pop('train')))\n",
    "    gb = xgb.Booster(param, model_file = name)\n",
    "    X, y = load()\n",
    "    print('test X {} y {}'.format(X.shape, y.shape))\n",
    "    dtest = xgb.DMatrix(X, label=y)\n",
    "    preds = gb.predict(dtest, ntree_limit=num_round)\n",
    "    print('acc', (dtest.get_label() == (preds >= 0.5)).mean())\n",
    "    print('auc', roc_auc_score(dtest.get_label(), preds))\n",
    "    \n",
    "exec(load_sps.replace(\"all00.svm\", \"all01.svm\"))\n",
    "eval_model(baseline, load)"
   ]
  },
  {
   "cell_type": "code",
   "execution_count": 14,
   "metadata": {},
   "outputs": [
    {
     "name": "stdout",
     "output_type": "stream",
     "text": [
      "num threads 64\n",
      "intitialize training file scanner 1ms\n",
      "first cardinality scan 531ms\n",
      "num lines 1677291\n",
      "num words total 144190548\n",
      "approx unique words 2707692\n",
      "nfeatures 2707692\n",
      "edge collection 27s\n",
      "num unique edges 259136336\n",
      "avg degree 191\n",
      "avg nnz per row 85\n",
      "max nnz per row 381\n",
      "avg edges per row 3757\n",
      "adjacency degree 2s\n",
      "adjacency offsets 2ms\n",
      "adjacency assign 6s\n",
      "adjacency list construction 8s\n",
      "graph coloring 3s\n",
      "num colors 465\n",
      "stats for counts: 0%: 1 25%: 1 50%: 2 75%: 2 90%: 4 95%: 8 99%: 79 100%: 1677291\n",
      "budget 500 >= ncolors 465, will have excess\n",
      "categorical encoding 4s\n",
      "out file \"./urls-data/sps00.te500.svm\" exists, will overwrite\n",
      "convert training 15s\n",
      "e2e pipeline time 58s\n",
      "out file \"./urls-data/sps01.te500.svm\" exists, will overwrite\n",
      "convert valid 6s\n",
      "1640.41user 204.19system 1:04.09elapsed 2877%CPU (0avgtext+0avgdata 16081512maxresident)k\n",
      "704inputs+17383608outputs (0major+14411075minor)pagefaults 0swaps\n"
     ]
    }
   ],
   "source": [
    "cmd = f\"\"\"\n",
    "RAYON_NUM_THREADS={nthread} /usr/bin/time ./csl/target/release/csl \\\n",
    "  --budget 500 --compress TargetEncode \\\n",
    "  --train ./urls-data/sps00.svm \\\n",
    "  --valid ./urls-data/sps01.svm\n",
    "\"\"\"\n",
    "! {cmd}"
   ]
  },
  {
   "cell_type": "code",
   "execution_count": 15,
   "metadata": {},
   "outputs": [
    {
     "name": "stdout",
     "output_type": "stream",
     "text": [
      "load 137.73586535453796\n",
      "train X (1677291, 529) y (1677291,)\n",
      "train 90.85661792755127\n",
      "4975.93user 74.15system 3:49.64elapsed 2199%CPU (0avgtext+0avgdata 27917092maxresident)k\n",
      "0inputs+384outputs (0major+16062789minor)pagefaults 0swaps\n"
     ]
    }
   ],
   "source": [
    "te_model = \"urls-data/te.model\"\n",
    "load_te = f\"\"\"\n",
    "def load():\n",
    "    import numpy as np\n",
    "    {import_svmlight}\n",
    "    X0, y = load_svmlight_file('urls-data/cont00.svm')\n",
    "    X1, y1 = load_svmlight_file('urls-data/sps00.te500.svm')\n",
    "    X0 = X0.todense()\n",
    "    X1 = X1.todense()\n",
    "    assert np.all(y == y1)\n",
    "    X = np.concatenate((X0, X1), axis=1)\n",
    "    return X, y\n",
    "\"\"\"\n",
    "! /usr/bin/time python xgb.py {nthread} {max_depth} {num_round} {te_model} \"{load_te}\""
   ]
  },
  {
   "cell_type": "code",
   "execution_count": 16,
   "metadata": {},
   "outputs": [
    {
     "name": "stdout",
     "output_type": "stream",
     "text": [
      "urls-data/te.model\n",
      "load          138 sec\n",
      "train          91 sec\n",
      "test X (718839, 529) y (718839,)\n",
      "acc 0.9129248691292486\n",
      "auc 0.9938938059551535\n"
     ]
    }
   ],
   "source": [
    "exec(load_te.replace(\"cont00.svm\", \"cont01.svm\").replace(\"sps00\", \"sps01\"))\n",
    "eval_model(te_model, load)"
   ]
  },
  {
   "cell_type": "code",
   "execution_count": 17,
   "metadata": {},
   "outputs": [
    {
     "name": "stdout",
     "output_type": "stream",
     "text": [
      "load 30.084582090377808\n",
      "train X (1677291, 64) y (1677291,)\n",
      "train 33.29405879974365\n",
      "1197.79user 16.21system 1:04.08elapsed 1894%CPU (0avgtext+0avgdata 3133860maxresident)k\n",
      "0inputs+800outputs (0major+2212160minor)pagefaults 0swaps\n",
      "urls-data/dense.model\n",
      "load           30 sec\n",
      "train          33 sec\n",
      "test X (718839, 64) y (718839,)\n",
      "acc 0.9696274130925006\n",
      "auc 0.9923397746323106\n"
     ]
    }
   ],
   "source": [
    "dense_model = \"urls-data/dense.model\"\n",
    "load_dense = f\"\"\"\n",
    "def load():\n",
    "    import numpy as np\n",
    "    {import_svmlight}\n",
    "    return load_svmlight_file('urls-data/cont00.svm')\n",
    "\"\"\"\n",
    "! /usr/bin/time python xgb.py {nthread} {max_depth} {num_round} {dense_model} \"{load_dense}\"\n",
    "exec(load_dense.replace(\"cont00.svm\", \"cont01.svm\"))\n",
    "eval_model(dense_model, load)"
   ]
  },
  {
   "cell_type": "code",
   "execution_count": 18,
   "metadata": {},
   "outputs": [
    {
     "name": "stdout",
     "output_type": "stream",
     "text": [
      "num threads 64\n",
      "intitialize training file scanner 1ms\n",
      "first cardinality scan 538ms\n",
      "num lines 1677291\n",
      "num words total 144190548\n",
      "approx unique words 2707692\n",
      "nfeatures 2707692\n",
      "edge collection 27s\n",
      "num unique edges 259136336\n",
      "avg degree 191\n",
      "avg nnz per row 85\n",
      "max nnz per row 381\n",
      "avg edges per row 3757\n",
      "adjacency degree 2s\n",
      "adjacency offsets 3ms\n",
      "adjacency assign 7s\n",
      "adjacency list construction 10s\n",
      "graph coloring 3s\n",
      "num colors 465\n",
      "sketch collection 3s\n",
      "counts for feature x: 0%: 1 25%: 1 50%: 2 75%: 2 90%: 4 95%: 8 99%: 79 100%: 1677291\n",
      "P(y>0|x), in %: 0%: 0 25%: 0 50%: 0 75%: 1 90%: 1 95%: 1 99%: 1 100%: 1\n",
      "collect input feature stats 54ms\n",
      "sort features 51ms\n",
      "accumulate 48ms\n",
      "heap init 1s\n",
      "lazy greedy 16ms\n",
      "extract dictionary 30ms\n",
      "submodular quantization 1s\n",
      "categorical encoding 5s\n",
      "out file \"./urls-data/sps00.sm16384.svm\" exists, will overwrite\n",
      "convert training 3s\n",
      "e2e pipeline time 49s\n",
      "out file \"./urls-data/sps01.sm16384.svm\" exists, will overwrite\n",
      "convert valid 1s\n",
      "1618.35user 166.76system 0:50.28elapsed 3550%CPU (0avgtext+0avgdata 15726352maxresident)k\n",
      "136inputs+4499360outputs (0major+15473535minor)pagefaults 0swaps\n"
     ]
    }
   ],
   "source": [
    "cmd = f\"\"\"\n",
    "RAYON_NUM_THREADS={nthread} /usr/bin/time ./csl/target/release/csl \\\n",
    "  --budget 16384 --compress SubmodularExpansion \\\n",
    "  --train ./urls-data/sps00.svm \\\n",
    "  --valid ./urls-data/sps01.svm\n",
    "\"\"\"\n",
    "! {cmd}"
   ]
  },
  {
   "cell_type": "code",
   "execution_count": 20,
   "metadata": {},
   "outputs": [
    {
     "name": "stdout",
     "output_type": "stream",
     "text": [
      "load 121.07721495628357\n",
      "train X (1677291, 886) y (1677291,)\n",
      "train 37.399537324905396\n",
      "1809.10user 58.03system 2:39.22elapsed 1172%CPU (0avgtext+0avgdata 14692196maxresident)k\n",
      "416inputs+560outputs (2major+8412782minor)pagefaults 0swaps\n",
      "urls-data/sm.model\n",
      "load          121 sec\n",
      "train          37 sec\n",
      "test X (718839, 886) y (718839,)\n",
      "acc 0.9857534162726285\n",
      "auc 0.9989700485474203\n"
     ]
    }
   ],
   "source": [
    "sm_model = \"urls-data/sm.model\"\n",
    "load_sm = f\"\"\"\n",
    "def load():\n",
    "    import numpy as np, scipy.sparse as sps\n",
    "    {import_svmlight}\n",
    "    X0, y = load_svmlight_file('urls-data/cont00.svm')\n",
    "    X1, y1 = load_svmlight_file('urls-data/sps00.sm16384.svm')\n",
    "    assert np.all(y == y1)\n",
    "    X = sps.hstack((X0, X1))\n",
    "    return X, y\n",
    "\"\"\"\n",
    "! /usr/bin/time python xgb.py {nthread} {max_depth} {num_round} {sm_model} \"{load_sm}\"\n",
    "exec(load_sm.replace(\"cont00.svm\", \"cont01.svm\").replace(\"sps00\", \"sps01\"))\n",
    "eval_model(sm_model, load)"
   ]
  },
  {
   "cell_type": "code",
   "execution_count": null,
   "metadata": {},
   "outputs": [],
   "source": []
  }
 ],
 "metadata": {
  "kernelspec": {
   "display_name": "Python 3",
   "language": "python",
   "name": "python3"
  },
  "language_info": {
   "codemirror_mode": {
    "name": "ipython",
    "version": 3
   },
   "file_extension": ".py",
   "mimetype": "text/x-python",
   "name": "python",
   "nbconvert_exporter": "python",
   "pygments_lexer": "ipython3",
   "version": "3.7.6"
  }
 },
 "nbformat": 4,
 "nbformat_minor": 2
}
