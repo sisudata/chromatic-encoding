{
 "cells": [
  {
   "cell_type": "code",
   "execution_count": 29,
   "metadata": {},
   "outputs": [],
   "source": [
    "%%bash\n",
    "\n",
    "mkdir -p turing-gen-data\n",
    "\n",
    "if ! [ -f svms-data/url.train.svm ]; then\n",
    "  cp urls-data/all00.svm turing-gen-data/url.train.svm\n",
    "fi\n",
    "\n",
    "if ! [ -f svms-data/url.test.svm ]; then\n",
    "  cp urls-data/all01.svm turing-gen-data/url.test.svm\n",
    "fi"
   ]
  },
  {
   "cell_type": "code",
   "execution_count": 18,
   "metadata": {},
   "outputs": [],
   "source": [
    "ks = [1, 2, 3, 4, 5, 6, 8, 10, 12, 14, 16, 18, 20, 22, 25, 30, 35, 40, 50]\n",
    "ks_str = ' '.join(map(str, ks))"
   ]
  },
  {
   "cell_type": "code",
   "execution_count": 31,
   "metadata": {},
   "outputs": [
    {
     "name": "stdout",
     "output_type": "stream",
     "text": [
      "1 2 3 4 5 6 8 10 12 14 16 18 20 22 25 30 35 40 50\n"
     ]
    }
   ],
   "source": [
    "%%bash -s '{ks_str}'\n",
    "\n",
    "ks=\"$1\"\n",
    "echo $ks\n",
    "\n",
    "cd turing-gen-data/\n",
    "\n",
    "budget=2048\n",
    "for k in $ks ; do\n",
    "for t in train test ; do \n",
    "  ln -s url.${t}.svm url.${t}${k}.svm\n",
    "done\n",
    "  echo $k\n",
    "done | tail -2 | RAYON_NUM_THREADS=4 xargs -L1 -I {} -P $(( $(nproc) / 4 )) bash -c \"../csl/target/release/csl \\\n",
    "    --budget $budget \\\n",
    "    --force-filter {} --glauber-samples $(( 100 * 1000 * 1000 )) \\\n",
    "    --compress Identity --train url.train{}.svm --max-k 0 \\\n",
    "    --print-new-edges --valid url.test{}.svm > url.k{}.log\""
   ]
  },
  {
   "cell_type": "code",
   "execution_count": 40,
   "metadata": {},
   "outputs": [],
   "source": [
    "%%bash -s '{ks_str}'\n",
    "\n",
    "ks=\"$1\"\n",
    "cd turing-gen-data/\n",
    "\n",
    "\n",
    "if true ; then\n",
    "\n",
    "function exarr {\n",
    "key=$1\n",
    "value=$(grep \"^$key\" $2 | head -1)\n",
    "value=${value#\"$key\"}\n",
    "echo \"\\\"$3\\\":\" \\\"\"$value\"\\\" \",\"\n",
    "}\n",
    "\n",
    "echo \"[\"\n",
    "\n",
    "for k in 40 50 ; do\n",
    "\n",
    "logfile=\"url.k${k}.log\"\n",
    "\n",
    "echo \"{\"\n",
    "echo \"\\\"k\\\": $k,\"\n",
    "echo \"\\\"budget\\\": 2048,\"\n",
    "#exarr \"greedy num colors\" $logfile \"greedy_colors\"\n",
    "#exarr \"filtered thresholded Good-Turing estimate\" $logfile \"good_turing_new_edge_estimator\"\n",
    "#exarr \"filtered thresholded actual new edge avg\" $logfile \"test_set_new_edges_per_example\"\n",
    "exarr \"color collision count\" $logfile \"greedy_cc\"\n",
    "exarr \"color collision std\" $logfile \"greedy_std\"\n",
    "echo \"},\"\n",
    "\n",
    "done\n",
    "echo \"]\"\n",
    "# npm install -g relaxed-json\n",
    "fi | rjson /dev/stdin > extracted-log.json"
   ]
  },
  {
   "cell_type": "code",
   "execution_count": 39,
   "metadata": {},
   "outputs": [
    {
     "name": "stdout",
     "output_type": "stream",
     "text": [
      "[\n",
      "  {\n",
      "    \"k\": 40,\n",
      "    \"budget\": 2048,\n",
      "    \"greedy_colors\": \" 1914\",\n",
      "    \"good_turing_new_edge_estimator\": \"\",\n",
      "    \"test_set_new_edges_per_example\": \"\",\n",
      "    \"greedy_cc\": \" 0.052270397126477554\",\n",
      "    \"greedy_std\": \" 0.3058790100862315\"\n",
      "  },\n",
      "  {\n",
      "    \"k\": 50,\n",
      "    \"budget\": 2048,\n",
      "    \"greedy_colors\": \" 1914\",\n",
      "    \"good_turing_new_edge_estimator\": \"\",\n",
      "    \"test_set_new_edges_per_example\": \"\",\n",
      "    \"greedy_cc\": \" 0.057349420384814956\",\n",
      "    \"greedy_std\": \" 0.3422246334118779\"\n",
      "  }\n",
      "]\n"
     ]
    }
   ],
   "source": [
    "%%bash\n",
    "cd turing-gen-data/\n",
    " # todo cd at top of this file\n",
    "cat extracted-log.json"
   ]
  },
  {
   "cell_type": "code",
   "execution_count": null,
   "metadata": {},
   "outputs": [],
   "source": [
    "# TODO then awk transform colliding features "
   ]
  }
 ],
 "metadata": {
  "kernelspec": {
   "display_name": "Python 3",
   "language": "python",
   "name": "python3"
  },
  "language_info": {
   "codemirror_mode": {
    "name": "ipython",
    "version": 3
   },
   "file_extension": ".py",
   "mimetype": "text/x-python",
   "name": "python",
   "nbconvert_exporter": "python",
   "pygments_lexer": "ipython3",
   "version": "3.7.6"
  }
 },
 "nbformat": 4,
 "nbformat_minor": 2
}
