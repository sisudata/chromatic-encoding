{
 "cells": [
  {
   "cell_type": "code",
   "execution_count": 34,
   "metadata": {},
   "outputs": [],
   "source": [
    "%%bash\n",
    "\n",
    "cd svms-data\n",
    "\n",
    "if ! [ -f criteo.train.txt ] ; then\n",
    "  wget -q -O criteo.tgz \\\n",
    "    https://s3-eu-west-1.amazonaws.com/kaggle-display-advertising-challenge-dataset/dac.tar.gz\n",
    "  tar xzvf criteo.tgz\n",
    "  rm readme.txt\n",
    "  rm test.txt\n",
    "  mv train.txt criteo.train.txt\n",
    "fi"
   ]
  },
  {
   "cell_type": "code",
   "execution_count": 26,
   "metadata": {},
   "outputs": [
    {
     "name": "stdout",
     "output_type": "stream",
     "text": [
      "1618112\n"
     ]
    }
   ],
   "source": [
    "%%bash\n",
    "cd svms-data\n",
    "\n",
    "# # https://www.csie.ntu.edu.tw/~cjlin/libsvmtools/datasets/binary.html#avazu\n",
    "# avazu is a similar \"dense categorical\" dataset\n",
    "\n",
    "# note some large floats can cause VW to throw due to feature\n",
    "# normalization, so we log-transform them, but we first check\n",
    "# the minimum offset\n",
    "head -7465 criteo.train.txt | tail -1 | cut -d$'\\t' -f6"
   ]
  },
  {
   "cell_type": "code",
   "execution_count": 10,
   "metadata": {},
   "outputs": [],
   "source": [
    "logspace = \"\"\"\n",
    "BEGIN { FS = \"\\t\" } ;\n",
    "{\n",
    "  for (i = 2; i <= 14 && i <= NF; ++i) {\n",
    "    if ($i != \"\" && mins[i] > $i)\n",
    "      mins[i] = $i\n",
    "  }\n",
    "}\n",
    "END {\n",
    "    for (i in mins) if (mins[i]) print i \": \" mins[i]\n",
    "}\n",
    "\"\"\""
   ]
  },
  {
   "cell_type": "code",
   "execution_count": 11,
   "metadata": {},
   "outputs": [
    {
     "name": "stdout",
     "output_type": "stream",
     "text": [
      "3: -3\n"
     ]
    }
   ],
   "source": [
    "%%bash -s '{logspace}'\n",
    "\n",
    "cd svms-data\n",
    "\n",
    "cat criteo.train.txt | awk \"$1\""
   ]
  },
  {
   "cell_type": "code",
   "execution_count": 12,
   "metadata": {},
   "outputs": [],
   "source": [
    "count_three = \"\"\"\n",
    "BEGIN { FS = \"\\t\" } ;\n",
    "{\n",
    "  if ($3 != \"\" && $3 <= 0)\n",
    "      c[$3] += 1\n",
    "}\n",
    "END {\n",
    "    for (i in c) if (c[i]) print i \": \" c[i]\n",
    "}\n",
    "\"\"\""
   ]
  },
  {
   "cell_type": "code",
   "execution_count": 13,
   "metadata": {},
   "outputs": [
    {
     "name": "stdout",
     "output_type": "stream",
     "text": [
      "-1: 4715368\n",
      "-3: 18\n",
      "-2: 30510\n",
      "0: 7969829\n"
     ]
    }
   ],
   "source": [
    "%%bash -s '{count_three}'\n",
    "\n",
    "cd svms-data\n",
    "\n",
    "cat criteo.train.txt | awk \"$1\""
   ]
  },
  {
   "cell_type": "code",
   "execution_count": 2,
   "metadata": {},
   "outputs": [],
   "source": [
    "# could do log(max($i, 0) + 1) instead of special offset\n",
    "# for feature 2, but whatever.\n",
    "logscale = \"\"\"\n",
    "BEGIN { FS = \"\\t\"; OFS = \"\\t\" } ;\n",
    "{\n",
    "  for (i = 2; i <= 14 && i <= NF; ++i) {\n",
    "    offset = (i == 3) ? 4 : 1;\n",
    "    if ($i != \"\" && $i != 0) $i = log(offset + $i)\n",
    "    else $i = \"0\"\n",
    "  }\n",
    "  print\n",
    "}\n",
    "\"\"\"\n",
    "# keep hash categorical features the same\n",
    "svmify = \"\"\"\n",
    "BEGIN { FS = \"\\t\"; OFS = \" \" } ;\n",
    "{\n",
    "  for (i = 2; i <= 14 && i <= NF; ++i) {\n",
    "    j = i - 2;\n",
    "    if ($i != 0) $i = j \":\" $i\n",
    "    else $i = \"\"\n",
    "  }\n",
    "  print\n",
    "}\n",
    "\"\"\""
   ]
  },
  {
   "cell_type": "code",
   "execution_count": 5,
   "metadata": {},
   "outputs": [],
   "source": [
    "%%bash -s '{logscale}' '{svmify}' \n",
    "\n",
    "# per https://arxiv.org/abs/1904.13389\n",
    "# just use labelled training data for train/val for eval\n",
    "# note that the data is chronologically ordered so there's only one valid split\n",
    "\n",
    "cd svms-data\n",
    "\n",
    "head -40000000 criteo.train.txt | awk \"$1\" > criteo.train.tsv\n",
    "head -40000000 criteo.train.txt | \\\n",
    "  awk \"$1\" | awk \"$2\" > criteo.train.svm\n",
    "tail -n +40000000 criteo.train.txt | awk \"$1\" > criteo.test.tsv\n",
    "tail -n +40000000 criteo.train.txt | \\\n",
    "  awk \"$1\" | awk \"$2\" > criteo.test.svm\n"
   ]
  },
  {
   "cell_type": "code",
   "execution_count": 6,
   "metadata": {},
   "outputs": [
    {
     "name": "stdout",
     "output_type": "stream",
     "text": [
      "   40000000 criteo.train.tsv\n",
      "   40000000 criteo.train.svm\n",
      "    5840618 criteo.test.tsv\n",
      "    5840618 criteo.test.svm\n",
      "   91681236 total\n",
      " 1486106054 criteo.train.tsv\n",
      " 1314348123 criteo.train.svm\n",
      "  216974696 criteo.test.tsv\n",
      "  192019158 criteo.test.svm\n",
      " 3209448031 total\n"
     ]
    }
   ],
   "source": [
    "%%bash\n",
    "\n",
    "cd svms-data\n",
    "\n",
    "wc -l criteo.{train,test}.{tsv,svm}\n",
    "\n",
    "wc -w criteo.{train,test}.{tsv,svm}"
   ]
  },
  {
   "cell_type": "code",
   "execution_count": 7,
   "metadata": {},
   "outputs": [
    {
     "name": "stdout",
     "output_type": "stream",
     "text": [
      "tsv check\n",
      "29779135 0\n",
      "10220865 1\n",
      "svm check\n",
      "29779135 0\n",
      "10220865 1\n"
     ]
    }
   ],
   "source": [
    "%%bash\n",
    "\n",
    "echo 'tsv check'\n",
    "cat svms-data/criteo.train.tsv | \\\n",
    "  cut -d$'\\t' -f1 | \\\n",
    "  awk 'BEGIN { FS = \"\\t\" } { cnts[$1] += 1 } END { for (v in cnts) print cnts[v], v }'\n",
    "  \n",
    "echo 'svm check'\n",
    "cat svms-data/criteo.train.svm | \\\n",
    "  cut -d\" \" -f1 | \\\n",
    "  awk '{ cnts[$1] += 1 } END { for (v in cnts) print cnts[v], v }'"
   ]
  },
  {
   "cell_type": "code",
   "execution_count": null,
   "metadata": {},
   "outputs": [],
   "source": [
    "%%bash\n",
    "\n",
    "if [ -f svms-data/criteo-results.jsonl ]; then\n",
    "  echo 'moving existing svms-data/criteo-results.jsonl to /tmp'\n",
    "  mv svms-data/criteo-results.jsonl /tmp\n",
    "fi\n",
    "  \n",
    "dataset=criteo\n",
    "for compression_short in \\\n",
    "  \"SubmodularSort ss\" \\\n",
    "  \"NoSplitSubmodularSort ns\" \\\n",
    "  \"FrequencyTruncation ft\" \\\n",
    "  \"SubmodularExpansion sm\"; do\n",
    "for budget in $(seq 100 100 1000) ; do \n",
    "\n",
    "compression=$(echo $compression_short | cut -d\" \" -f1)\n",
    "shortname=$(echo $compression_short | cut -d\" \" -f2)\n",
    "\n",
    "RAYON_NUM_THREADS=64 ./csl/target/release/csl \\\n",
    "--budget $budget --compress $compression \\\n",
    "--train ./svms-data/${dataset}.train.tsv \\\n",
    "--valid ./svms-data/${dataset}.test.tsv \\\n",
    "--tsv-dense $(seq 0 12) > ./svms-data/${dataset}.${compression}${i}.log\n",
    "    \n",
    "dataset=criteo\n",
    "quiet=\"yes\"\n",
    "l1=0\n",
    "passes=1\n",
    "neurons=8\n",
    "delete=\"yes\"\n",
    "echo $budget $dataset $shortname $quiet $delete\n",
    "\n",
    "done\n",
    "done | xargs -P 16 -L1 /bin/bash vw.sh > svms-data/criteo-results.jsonl"
   ]
  },
  {
   "cell_type": "code",
   "execution_count": 4,
   "metadata": {},
   "outputs": [
    {
     "data": {
      "text/html": [
       "<div>\n",
       "<style scoped>\n",
       "    .dataframe tbody tr th:only-of-type {\n",
       "        vertical-align: middle;\n",
       "    }\n",
       "\n",
       "    .dataframe tbody tr th {\n",
       "        vertical-align: top;\n",
       "    }\n",
       "\n",
       "    .dataframe thead th {\n",
       "        text-align: right;\n",
       "    }\n",
       "</style>\n",
       "<table border=\"1\" class=\"dataframe\">\n",
       "  <thead>\n",
       "    <tr style=\"text-align: right;\">\n",
       "      <th></th>\n",
       "      <th>learner</th>\n",
       "      <th>budget</th>\n",
       "      <th>train_examples</th>\n",
       "      <th>test_examples</th>\n",
       "      <th>dataset</th>\n",
       "      <th>compress</th>\n",
       "      <th>train_sec</th>\n",
       "      <th>train_acc</th>\n",
       "      <th>test_acc</th>\n",
       "      <th>train_logloss</th>\n",
       "      <th>test_logloss</th>\n",
       "    </tr>\n",
       "  </thead>\n",
       "  <tbody>\n",
       "    <tr>\n",
       "      <th>0</th>\n",
       "      <td>vw</td>\n",
       "      <td>100</td>\n",
       "      <td>19999718</td>\n",
       "      <td>5840618</td>\n",
       "      <td>criteo</td>\n",
       "      <td>ss</td>\n",
       "      <td>82.56</td>\n",
       "      <td>0.773485</td>\n",
       "      <td>0.768174</td>\n",
       "      <td>0.483361</td>\n",
       "      <td>0.490754</td>\n",
       "    </tr>\n",
       "    <tr>\n",
       "      <th>1</th>\n",
       "      <td>vw</td>\n",
       "      <td>200</td>\n",
       "      <td>19999718</td>\n",
       "      <td>5840618</td>\n",
       "      <td>criteo</td>\n",
       "      <td>ss</td>\n",
       "      <td>90.69</td>\n",
       "      <td>0.777304</td>\n",
       "      <td>0.771906</td>\n",
       "      <td>0.475722</td>\n",
       "      <td>0.483516</td>\n",
       "    </tr>\n",
       "    <tr>\n",
       "      <th>2</th>\n",
       "      <td>vw</td>\n",
       "      <td>300</td>\n",
       "      <td>19999718</td>\n",
       "      <td>5840618</td>\n",
       "      <td>criteo</td>\n",
       "      <td>ss</td>\n",
       "      <td>91.22</td>\n",
       "      <td>0.778812</td>\n",
       "      <td>0.773635</td>\n",
       "      <td>0.473321</td>\n",
       "      <td>0.480925</td>\n",
       "    </tr>\n",
       "    <tr>\n",
       "      <th>3</th>\n",
       "      <td>vw</td>\n",
       "      <td>400</td>\n",
       "      <td>19999718</td>\n",
       "      <td>5840618</td>\n",
       "      <td>criteo</td>\n",
       "      <td>ss</td>\n",
       "      <td>82.95</td>\n",
       "      <td>0.779534</td>\n",
       "      <td>0.774366</td>\n",
       "      <td>0.471501</td>\n",
       "      <td>0.479154</td>\n",
       "    </tr>\n",
       "    <tr>\n",
       "      <th>4</th>\n",
       "      <td>vw</td>\n",
       "      <td>500</td>\n",
       "      <td>19999718</td>\n",
       "      <td>5840618</td>\n",
       "      <td>criteo</td>\n",
       "      <td>ss</td>\n",
       "      <td>83.80</td>\n",
       "      <td>0.780022</td>\n",
       "      <td>0.775060</td>\n",
       "      <td>0.469866</td>\n",
       "      <td>0.477492</td>\n",
       "    </tr>\n",
       "  </tbody>\n",
       "</table>\n",
       "</div>"
      ],
      "text/plain": [
       "  learner  budget  train_examples  test_examples dataset compress  train_sec  \\\n",
       "0      vw     100        19999718        5840618  criteo       ss      82.56   \n",
       "1      vw     200        19999718        5840618  criteo       ss      90.69   \n",
       "2      vw     300        19999718        5840618  criteo       ss      91.22   \n",
       "3      vw     400        19999718        5840618  criteo       ss      82.95   \n",
       "4      vw     500        19999718        5840618  criteo       ss      83.80   \n",
       "\n",
       "   train_acc  test_acc  train_logloss  test_logloss  \n",
       "0   0.773485  0.768174       0.483361      0.490754  \n",
       "1   0.777304  0.771906       0.475722      0.483516  \n",
       "2   0.778812  0.773635       0.473321      0.480925  \n",
       "3   0.779534  0.774366       0.471501      0.479154  \n",
       "4   0.780022  0.775060       0.469866      0.477492  "
      ]
     },
     "execution_count": 4,
     "metadata": {},
     "output_type": "execute_result"
    }
   ],
   "source": [
    "import pandas as pd\n",
    "import json\n",
    "\n",
    "records = []\n",
    "with open('svms-data/criteo-results.jsonl', 'r') as f:\n",
    "    for line in f:\n",
    "        records.append(json.loads(line))\n",
    "\n",
    "df = pd.DataFrame.from_records(records)\n",
    "df.head()"
   ]
  },
  {
   "cell_type": "code",
   "execution_count": 5,
   "metadata": {},
   "outputs": [],
   "source": [
    "df['compress_named'] = df.compress.map({\n",
    "    'ss': 'Google (Split)', 'sm': 'Ours (Split)', 'ht': 'Hashing Trick',\n",
    "    'ns': 'Google (No Split)', 'sn': 'Ours (No Split)', 'ft': 'Frequency Truncation'})\n",
    "df_traintest = df.copy(deep=True)\n",
    "df_traintest.drop(columns=['test_logloss'], inplace=True)\n",
    "df_traintest.loc[:, 'tt'] = 'train'\n",
    "df_traintest.rename(columns={'train_logloss': 'log loss'}, inplace=True)\n",
    "x = df.copy()\n",
    "x.drop(columns=['train_logloss'], inplace=True)\n",
    "x.rename(columns={'test_logloss': 'log loss'}, inplace=True)\n",
    "x.loc[:, 'tt'] = 'test'\n",
    "df_tt = pd.concat([df_traintest, x], sort=False)\n",
    "df_tt.compress_named = df_tt.compress_named.map({\n",
    "    'Google (Split)': 'split',\n",
    "    'Google (No Split)': 'no split'\n",
    "})"
   ]
  },
  {
   "cell_type": "code",
   "execution_count": 48,
   "metadata": {},
   "outputs": [
    {
     "data": {
      "image/png": "[encoded data removed]",
      "text/plain": [
       "<Figure size 360x720 with 1 Axes>"
      ]
     },
     "metadata": {},
     "output_type": "display_data"
    }
   ],
   "source": [
    "%matplotlib inline\n",
    "from matplotlib import pyplot as plt\n",
    "import seaborn as sns\n",
    "sns.set(style=\"whitegrid\")\n",
    "\n",
    "df_tt['budget (# features)'] = df_tt.budget\n",
    "plt.figure(figsize=(5,10))\n",
    "\n",
    "sns.lineplot(x='budget (# features)', y='log loss', hue='compress_named', style='tt',\n",
    "                  markers=True, data=df_tt[~pd.isnull(df_tt.compress_named)],\n",
    "                  legend = 'brief')\n",
    "handles, labels = plt.gca().get_legend_handles_labels()\n",
    "handles.pop(3); handles.pop(0)\n",
    "labels.pop(3); labels.pop(0)\n",
    "plt.gca().legend(handles=handles, labels=labels, framealpha=1)\n",
    "#plt.title('Criteo effect of splitting')\n",
    "plt.savefig('pics/criteo-split.pdf', bbox_inches='tight')\n",
    "plt.show()"
   ]
  },
  {
   "cell_type": "code",
   "execution_count": 49,
   "metadata": {},
   "outputs": [
    {
     "data": {
      "image/png": "[encoded data removed]",
      "text/plain": [
       "<Figure size 432x288 with 1 Axes>"
      ]
     },
     "metadata": {},
     "output_type": "display_data"
    }
   ],
   "source": [
    "tdf = df.copy()\n",
    "tdf['compress_named'] = tdf.compress.map({\n",
    "    'ss': 'Sort (Bateni et al 2019)', 'sm': 'Global (ours)', 'ht': 'hashing trick', 'ft': 'frequency truncation'})\n",
    "tdf.dropna(inplace=True)\n",
    "tdf.rename(columns={'test_logloss': 'log loss'}, inplace=True)\n",
    "tdf['budget (# features)'] = tdf.budget\n",
    "sns.lineplot(x='budget (# features)', y='log loss', hue='compress_named',\n",
    "                  markers=True, data=tdf, style='compress_named',\n",
    "                  legend = 'brief')\n",
    "  \n",
    "handles, labels = plt.gca().get_legend_handles_labels()\n",
    "handles.pop(0)\n",
    "labels.pop(0)\n",
    "plt.gca().legend(handles=handles, labels=labels, framealpha=1)\n",
    "\n",
    "#plt.title('Criteo test log loss vs budge across strategies')\n",
    "plt.savefig('pics/criteo-compare-submod.pdf', bbox_inches='tight')\n",
    "plt.show()"
   ]
  },
  {
   "cell_type": "code",
   "execution_count": null,
   "metadata": {},
   "outputs": [],
   "source": []
  }
 ],
 "metadata": {
  "kernelspec": {
   "display_name": "Python 3",
   "language": "python",
   "name": "python3"
  },
  "language_info": {
   "codemirror_mode": {
    "name": "ipython",
    "version": 3
   },
   "file_extension": ".py",
   "mimetype": "text/x-python",
   "name": "python",
   "nbconvert_exporter": "python",
   "pygments_lexer": "ipython3",
   "version": "3.7.4"
  }
 },
 "nbformat": 4,
 "nbformat_minor": 2
}
